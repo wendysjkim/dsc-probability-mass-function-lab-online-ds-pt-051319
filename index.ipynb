{
 "cells": [
  {
   "cell_type": "markdown",
   "metadata": {},
   "source": [
    "# The Probability Mass Function (PMF) - Lab\n",
    "\n",
    "The class size paradox describes apparent contradictory findings where a total allocation of resources is fixed. \n",
    "The idea behind this paradox is that there is a difference in how events are actually distributed and how events are perceived to be distributed. These types of divergence can have important consequences for data analysis. PMFs can help resolve some of these situations as you'll learn below.\n",
    "\n",
    "## Objectives\n",
    "\n",
    "You will be able to:\n",
    "\n",
    "* Understand and explain the class size paradox \n",
    "* Use PMFs to visualize actual and biased observations\n",
    "* Calculate mean from PMFs to identify the expected value\n",
    "\n",
    "\n",
    "## The Problem \n",
    "\n",
    "At a university, the expected student-to-teacher ratio is 32.5 : 1. But randomly interviewed students often feel that their average class size is bigger than 32.5. There are two main reasons for this:\n",
    "\n",
    "1. Students typically take 4 - 5 classes at any given time, but teachers usually only teach 1 or 2 classes.\n",
    "2. The number of students in a small class is small, and the number of students in a large class is large.\n",
    "\n",
    "Due to the second fact, while randomly taking feedback from students (and sampling randomly), it is expected we will come across _more_ students from larger classes simply because there are more of them.\n",
    "\n",
    "Let's work through a set of data to recreate and analyze this paradox. \n",
    "\n",
    "Suppose that a college offers 74 classes in a term. We can start with the following distribution of sizes and counts:\n",
    "\n",
    "| Class size |  Class count |\n",
    "|--------|------|\n",
    "|15-19|\t10|\n",
    "|20-24|\t10|\n",
    "|25-29|\t18|\n",
    "|30-34|\t6|\n",
    "|35-39|\t8|\n",
    "|40-44|\t10|\n",
    "|45-49|\t5|\n",
    "|50-54|\t3|\n",
    "|55-59| 4|\n",
    "\n",
    "If the campus manager were asked about the average class size, he would perform the following tasks:\n",
    "\n",
    "1. Construct a PMF from given data\n",
    "2. Compute the mean using the PMF\n",
    "\n",
    "Let's follow the management approach first and see what expected value we get from our PMF. Here is a `size_and_count` dictionary to get you started. Calculate the PMF from this data as we have done before. To make it slightly more straightforward, we have averaged the class sizes for each class, i.e. for size \"15 - 19\", we use the average value, 17."
   ]
  },
  {
   "cell_type": "code",
   "execution_count": 1,
   "metadata": {},
   "outputs": [],
   "source": [
    "size_and_count = { 17: 10, 22: 10, 27: 18, 32: 6, 37: 8, 42: 10, 47: 5, 52: 3, 57: 4 }"
   ]
  },
  {
   "cell_type": "markdown",
   "metadata": {},
   "source": [
    "Following the approach seen in the previous lesson, calculate the PMF by normalizing each size. "
   ]
  },
  {
   "cell_type": "code",
   "execution_count": 2,
   "metadata": {},
   "outputs": [
    {
     "data": {
      "text/plain": [
       "([17, 22, 27, 32, 37, 42, 47, 52, 57],\n",
       " [0.135, 0.135, 0.243, 0.081, 0.108, 0.135, 0.068, 0.041, 0.054])"
      ]
     },
     "execution_count": 2,
     "metadata": {},
     "output_type": "execute_result"
    }
   ],
   "source": [
    "sizes = list(size_and_count.keys())\n",
    "pmf = [round(size_and_count[i] / 74, 3) for i in sizes]\n",
    "sizes, pmf\n",
    "\n",
    "# ([17, 22, 27, 32, 37, 42, 47, 52, 57],\n",
    "# [0.135, 0.135, 0.243, 0.081, 0.108, 0.135, 0.068, 0.041, 0.054])"
   ]
  },
  {
   "cell_type": "markdown",
   "metadata": {},
   "source": [
    "As an additional check, these probability values must sum to 1. Let's check for that"
   ]
  },
  {
   "cell_type": "code",
   "execution_count": 3,
   "metadata": {},
   "outputs": [],
   "source": [
    "import numpy as np"
   ]
  },
  {
   "cell_type": "code",
   "execution_count": 4,
   "metadata": {},
   "outputs": [
    {
     "data": {
      "text/plain": [
       "1.0"
      ]
     },
     "execution_count": 4,
     "metadata": {},
     "output_type": "execute_result"
    }
   ],
   "source": [
    "# Uncomment the line below, the output should be 1\n",
    "np.array(pmf).sum()"
   ]
  },
  {
   "cell_type": "markdown",
   "metadata": {},
   "source": [
    "## Calculate the Mean or Expected Value $E(X)$\n",
    "\n",
    "We can now calculate the mean or **Expected Value** for this distribution.\n",
    "\n",
    ">The mean $\\mu$ or expected value **E(X)** of a random variable $X$ is the sum of the possible values for $X$ weighted by their respective probabilities.\n",
    "\n",
    "$$ E(X) = \\mu = \\sum_i p(x_i)x_i$$\n",
    "\n",
    "In simple terms, you have to multiply each element in the sizes list by their probability of occurrence then sum the resulting values. We can do this in one line of code using numpy broadcasting."
   ]
  },
  {
   "cell_type": "code",
   "execution_count": 5,
   "metadata": {},
   "outputs": [
    {
     "data": {
      "text/plain": [
       "32.49"
      ]
     },
     "execution_count": 5,
     "metadata": {},
     "output_type": "execute_result"
    }
   ],
   "source": [
    "# Calculate the expected value (mu) using formula above\n",
    "mu = np.multiply(sizes, pmf).sum()\n",
    "\n",
    "mu \n",
    "\n",
    "# 32.49"
   ]
  },
  {
   "cell_type": "markdown",
   "metadata": {},
   "source": [
    "Recall, we expected the average class size to be 32.5. Indeed, the calculation above confirms this. We can plot a PMF function based on our findings for visualization. "
   ]
  },
  {
   "cell_type": "code",
   "execution_count": 6,
   "metadata": {
    "scrolled": true
   },
   "outputs": [
    {
     "data": {
      "image/png": "[encoded data removed]",
      "text/plain": [
       "<Figure size 432x288 with 1 Axes>"
      ]
     },
     "metadata": {
      "needs_background": "light"
     },
     "output_type": "display_data"
    }
   ],
   "source": [
    "# Plot the pmf , it should look similar to the one shown below\n",
    "import matplotlib.pyplot as plt\n",
    "%matplotlib inline\n",
    "\n",
    "plt.bar(sizes, pmf)\n",
    "plt.title('Probabilihy Mass Function')\n",
    "plt.show()"
   ]
  },
  {
   "cell_type": "markdown",
   "metadata": {},
   "source": [
    "## Random Student Survey\n",
    "\n",
    "Next, we conduct a survey on a random group of students about their class sizes and then compute the mean. Paradoxically, we observed that the average class is bigger than 32.5. How did this happen? Let's see this in action below:\n",
    "\n",
    "First, let's compute a distribution as a likely observation **by students**, where the probability associated with each class size is \"biased\" by the **number of students** in the class. If this sounds confusing, think of it this way: instead of calculating a PMF using the counts of class sizes, calculate it using the counts of students.\n",
    "\n",
    "Perform the following tasks to introduce this bias. \n",
    "\n",
    "* For each class size $x$, multiply the class probability by $x$, the number of students who observe that particular class size\n",
    "* Get the sum of biased class sizes\n",
    "\n",
    "The result is a new PMF that represents the biased distribution."
   ]
  },
  {
   "cell_type": "code",
   "execution_count": 7,
   "metadata": {},
   "outputs": [
    {
     "data": {
      "text/plain": [
       "(array([2.295, 2.97 , 6.561, 2.592, 3.996, 5.67 , 3.196, 2.132, 3.078]), 32.49)"
      ]
     },
     "execution_count": 7,
     "metadata": {},
     "output_type": "execute_result"
    }
   ],
   "source": [
    "biased = np.multiply(sizes, pmf)\n",
    "\n",
    "\n",
    "biased_sum = biased.sum()\n",
    "\n",
    "biased, biased_sum\n",
    "\n",
    "# ([2.295, 2.97, 6.561, 2.592, 3.996, 5.67, 3.196, 2.132, 3.078], 32.49)"
   ]
  },
  {
   "cell_type": "markdown",
   "metadata": {},
   "source": [
    "You can now normalize the new biased list with the sum of its values, just like you did before. \n",
    "- Normalize the biased list and calculate the new PMF"
   ]
  },
  {
   "cell_type": "code",
   "execution_count": 8,
   "metadata": {},
   "outputs": [
    {
     "data": {
      "text/plain": [
       "([17, 22, 27, 32, 37, 42, 47, 52, 57],\n",
       " [0.071, 0.091, 0.202, 0.08, 0.123, 0.175, 0.098, 0.066, 0.095])"
      ]
     },
     "execution_count": 8,
     "metadata": {},
     "output_type": "execute_result"
    }
   ],
   "source": [
    "pmf2 = [round(i/biased_sum,3)for i in biased]\n",
    "\n",
    "    \n",
    "sizes, pmf2\n",
    "\n",
    "# ([17, 22, 27, 32, 37, 42, 47, 52, 57],\n",
    "# [0.071, 0.091, 0.202, 0.08, 0.123, 0.175, 0.098, 0.066, 0.095])"
   ]
  },
  {
   "cell_type": "markdown",
   "metadata": {},
   "source": [
    "You can see that probability values in this PMF are different than our original pmf. Just like before, you can calculate the expected value $\\mu$.  "
   ]
  },
  {
   "cell_type": "code",
   "execution_count": 9,
   "metadata": {},
   "outputs": [
    {
     "data": {
      "text/plain": [
       "36.577"
      ]
     },
     "execution_count": 9,
     "metadata": {},
     "output_type": "execute_result"
    }
   ],
   "source": [
    "mu_biased =  np.multiply(sizes, pmf2).sum()\n",
    "\n",
    "mu_biased\n",
    "# 36.577"
   ]
  },
  {
   "cell_type": "markdown",
   "metadata": {},
   "source": [
    "## Here comes the paradox \n",
    "\n",
    "Here we see it, the average or expected value of biased results comes out much higher than the actual values. In some situations, a paradox like this can be mind-boggling. As an extra measure, you can inspect both PMFs side by side visually to see the differences. \n",
    "\n",
    "* Plot a figure with two axes\n",
    "* Show pmf and pmf2 side by side"
   ]
  },
  {
   "cell_type": "code",
   "execution_count": 10,
   "metadata": {},
   "outputs": [
    {
     "data": {
      "image/png": "[encoded data removed]",
      "text/plain": [
       "<Figure size 1008x432 with 2 Axes>"
      ]
     },
     "metadata": {
      "needs_background": "light"
     },
     "output_type": "display_data"
    }
   ],
   "source": [
    "# Plot pmfs side by side\n",
    "fig = plt.figure(figsize=(14,6))\n",
    "\n",
    "ax1 = fig.add_subplot(1,2,1)\n",
    "ax2 = fig.add_subplot(1,2,2)\n",
    "\n",
    "ax1.bar(sizes, pmf)\n",
    "ax2.bar(sizes, pmf2)\n",
    "\n",
    "ax1.set_title('PMF - Actual')\n",
    "ax2.set_title('PMF - Observed')\n",
    "plt.show()"
   ]
  },
  {
   "cell_type": "markdown",
   "metadata": {},
   "source": [
    "Your results tell you that in the biased distribution there are fewer small classes and more large classes. \n",
    "\n",
    "The mean of the biased distribution is 36.577, which is quite a bit higher than the actual mean (~32.5).\n",
    "\n",
    "For an even more direct comparison, plot these PMFs on top of each other and change the parameter `alpha` so you can see both distributions well."
   ]
  },
  {
   "cell_type": "code",
   "execution_count": 11,
   "metadata": {},
   "outputs": [
    {
     "data": {
      "image/png": "[encoded data removed]",
      "text/plain": [
       "<Figure size 432x288 with 1 Axes>"
      ]
     },
     "metadata": {
      "needs_background": "light"
     },
     "output_type": "display_data"
    }
   ],
   "source": [
    "# Plot pmfs overlapping\n",
    "plt.bar(sizes, pmf, alpha=0.5, label='Actual')\n",
    "plt.bar(sizes, pmf2, alpha=0.5, label='Observed')\n",
    "\n",
    "plt.legend()\n",
    "plt.show()"
   ]
  },
  {
   "cell_type": "markdown",
   "metadata": {},
   "source": [
    "Here is the key: For smaller class sizes, the probability of coming across a students is lower than the actual probability. For larger classes, the probability of coming across a student is much higher than actual probability. This explains why the paradox takes place!\n",
    "\n",
    "## Summary \n",
    "In this lesson we looked at a common paradox called the \"class size paradox\", which deals with differences in observation by different people based on their circumstances. \n",
    "\n",
    "Note that this phenomenon is not just limited to class sizes. It applies to many scenarios where people are grouped together. This paradox can become really complicated due to the large number of individuals involved and the resulting variations in the probabilities of their observations which arise due to their settings. "
   ]
  }
 ],
 "metadata": {
  "kernelspec": {
   "display_name": "Python 3",
   "language": "python",
   "name": "python3"
  },
  "language_info": {
   "codemirror_mode": {
    "name": "ipython",
    "version": 3
   },
   "file_extension": ".py",
   "mimetype": "text/x-python",
   "name": "python",
   "nbconvert_exporter": "python",
   "pygments_lexer": "ipython3",
   "version": "3.7.3"
  }
 },
 "nbformat": 4,
 "nbformat_minor": 2
}
